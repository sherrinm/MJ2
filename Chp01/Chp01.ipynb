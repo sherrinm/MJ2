{
 "cells": [
  {
   "cell_type": "markdown",
   "metadata": {},
   "source": [
    "## Chapter 1"
   ]
  },
  {
   "cell_type": "code",
   "execution_count": null,
   "metadata": {},
   "outputs": [],
   "source": [
    "# We can define these here as as required\n",
    "using BenchmarkTools, UnicodePlots, PyPlot\n",
    "\n",
    "# We need these as some functions have moved from Base to Stdlib\n",
    "#\n",
    "using Printf"
   ]
  },
  {
   "cell_type": "markdown",
   "metadata": {},
   "source": [
    "### Estimating Pi\n",
    "\n",
    "A simple simple estimation of PI by generating pairs of random numbers (x,y).\n",
    "\n",
    "This are in the unit square and the proportion of pairs with line in the unit circle will be π/4."
   ]
  },
  {
   "cell_type": "code",
   "execution_count": 10,
   "metadata": {},
   "outputs": [],
   "source": [
    "# Define a function to compute the sum of the squares of (x,y)\n",
    "\n",
    "sumsq(x,y) = x*x + y*y;"
   ]
  },
  {
   "cell_type": "code",
   "execution_count": 11,
   "metadata": {},
   "outputs": [],
   "source": [
    "# Set the number of trials and initialise the counter\n",
    "# Using zero(Integer) will ensure the counter is an integer\n",
    "\n",
    "N = 10^8; \n",
    "K = zero(Integer);"
   ]
  },
  {
   "cell_type": "code",
   "execution_count": 12,
   "metadata": {},
   "outputs": [],
   "source": [
    "using Printf"
   ]
  },
  {
   "cell_type": "code",
   "execution_count": 13,
   "metadata": {},
   "outputs": [
    {
     "name": "stdout",
     "output_type": "stream",
     "text": [
      "Estimate of PI for 100000000 trials is  3.14148\n"
     ]
    }
   ],
   "source": [
    "# Sum the number of pairs which lie within the inscribed circle\n",
    "\n",
    "for i = 1:N\n",
    "  if sumsq(rand(), rand()) < 1.0\n",
    "    K += 1\n",
    "  end\n",
    "end\n",
    "\n",
    "# ... and output the value for PI\n",
    "\n",
    "@printf \"Estimate of PI for %d trials is %8.5f\\n\" N 4.0*(K / N);"
   ]
  },
  {
   "cell_type": "code",
   "execution_count": 14,
   "metadata": {},
   "outputs": [
    {
     "name": "stdout",
     "output_type": "stream",
     "text": [
      " 13.401923 seconds (378.54 M allocations: 7.131 GiB, 9.56% gc time)\n"
     ]
    }
   ],
   "source": [
    "# We can time this using the @time macro\n",
    "# Note that his takes some time, will be different in the REPL\n",
    "\n",
    "K = zero(Integer);\n",
    "\n",
    "@time for i = 1:N\n",
    "  if sumsq(rand(), rand()) < 1.0\n",
    "    K += 1\n",
    "  end\n",
    "end"
   ]
  },
  {
   "cell_type": "code",
   "execution_count": 15,
   "metadata": {},
   "outputs": [],
   "source": [
    "# Now need the global K to access top level varables in the REPL\n",
    "# The error message is less than informative\n",
    "# i.e. UndefVarError: K not defined\n",
    "\n",
    "# Try v0.7 to get a warning and understand the problem\n",
    "# ┌ Warning: Deprecated syntax `implicit assignment to global variable `K``.\n",
    "# │ Use `global K` instead.\n",
    "# └ @ none:0"
   ]
  },
  {
   "cell_type": "code",
   "execution_count": 16,
   "metadata": {},
   "outputs": [
    {
     "name": "stdout",
     "output_type": "stream",
     "text": [
      "3.137408\n"
     ]
    }
   ],
   "source": [
    "# This ONLY applies to the top level loops\n",
    "# So wrapping in let/end, begin/end block is OK, since K is in local scope\n",
    "\n",
    "# This is by using a function and passing K,N as parameters\n",
    "# Here is a contrived example which demonstrates this:\n",
    "\n",
    "while (true)\n",
    "    N = 1000000\n",
    "    K = zero(Integer)\n",
    "    for i = 1:N\n",
    "        if sumsq(rand(), rand()) < 1.0\n",
    "          K += 1\n",
    "        end\n",
    "    end\n",
    "    println(4.0*(K/N))\n",
    "    break\n",
    "end"
   ]
  },
  {
   "cell_type": "code",
   "execution_count": 17,
   "metadata": {},
   "outputs": [
    {
     "data": {
      "text/plain": [
       "Base.Generator{UnitRange{Int64},var\"#1#2\"}(var\"#1#2\"(), 1:1000000)"
      ]
     },
     "execution_count": 17,
     "metadata": {},
     "output_type": "execute_result"
    }
   ],
   "source": [
    "# We can rewrite as a generator expressions\n",
    "# This does not require the variable 'K'\n",
    "#\n",
    "# Comprehensions can also be written without the enclosing square brackets, \n",
    "# producing an object known as a generator.\n",
    "\n",
    "((rand()^2 + rand()^2) < 1.0 for i = 1:N)"
   ]
  },
  {
   "cell_type": "code",
   "execution_count": 18,
   "metadata": {},
   "outputs": [
    {
     "data": {
      "text/plain": [
       "3.141928"
      ]
     },
     "execution_count": 18,
     "metadata": {},
     "output_type": "execute_result"
    }
   ],
   "source": [
    "# The generator can be \"evaluated\" as the argument to an aggregate function\n",
    "\n",
    "count((rand()^2 + rand()^2) < 1.0 for i = 1:N) * 4 / N"
   ]
  },
  {
   "cell_type": "code",
   "execution_count": 19,
   "metadata": {},
   "outputs": [
    {
     "name": "stdout",
     "output_type": "stream",
     "text": [
      "  0.062650 seconds (28.17 k allocations: 1.419 MiB)\n"
     ]
    },
    {
     "data": {
      "text/plain": [
       "3.138616"
      ]
     },
     "execution_count": 19,
     "metadata": {},
     "output_type": "execute_result"
    }
   ],
   "source": [
    "# And this runs much more quickly with a much better memory allocation\n",
    "\n",
    "@time count((rand()^2 + rand()^2) < 1.0 for i = 1:N) * 4 / N"
   ]
  },
  {
   "cell_type": "code",
   "execution_count": 20,
   "metadata": {},
   "outputs": [
    {
     "data": {
      "text/plain": [
       "\"/Applications/Julia-1.5.app/Contents/Resources/julia/bin\""
      ]
     },
     "execution_count": 20,
     "metadata": {},
     "output_type": "execute_result"
    }
   ],
   "source": [
    "# JULIA_HOME is not longer defined in Version 1\n",
    "# See: https://docs.julialang.org/en/v1/manual/environment-variables/\n",
    "#\n",
    "# JULIA_BINDIR sets Sys.BINDIR\n",
    "\n",
    "Sys.BINDIR"
   ]
  },
  {
   "cell_type": "markdown",
   "metadata": {},
   "source": [
    "---"
   ]
  },
  {
   "cell_type": "markdown",
   "metadata": {},
   "source": [
    "### Basel problem\n",
    "\n",
    "The Basel problem is a problem in mathematical analysis with relevance to number theory, \n",
    "first posed by Pietro Mengoli in 1644 and solved by Leonhard Euler in 1734\n",
    "\n",
    "It asks for the precise summation of the reciprocals of the squares of the natural numbers\n",
    "\n",
    "## $\\sum_{i=1}^\\infty \\frac{1}{i^2} = \\frac{\\pi^2}{6}$"
   ]
  },
  {
   "cell_type": "code",
   "execution_count": 21,
   "metadata": {},
   "outputs": [],
   "source": [
    "# Rather than just using the @time macro we can get a more accuracy timing using the BenchmarkTools package\n",
    "\n",
    "using BenchmarkTools"
   ]
  },
  {
   "cell_type": "code",
   "execution_count": 22,
   "metadata": {},
   "outputs": [
    {
     "data": {
      "text/plain": [
       "basel (generic function with 1 method)"
      ]
     },
     "execution_count": 22,
     "metadata": {},
     "output_type": "execute_result"
    }
   ],
   "source": [
    "# Define the function to sum the series\n",
    "# It converges very slowly\n",
    "\n",
    "function basel(N::Integer)\n",
    "  @assert N > 0\n",
    "  s = 0.0\n",
    "  for i = 1:N\n",
    "    s += 1.0/float(i)^2     \n",
    "  end \n",
    "  return s\n",
    "end"
   ]
  },
  {
   "cell_type": "code",
   "execution_count": 23,
   "metadata": {},
   "outputs": [
    {
     "data": {
      "text/plain": [
       "1.644934057834575"
      ]
     },
     "execution_count": 23,
     "metadata": {},
     "output_type": "execute_result"
    }
   ],
   "source": [
    "basel(10^8)   # Evaluate it over 10^8 terms"
   ]
  },
  {
   "cell_type": "code",
   "execution_count": 24,
   "metadata": {},
   "outputs": [
    {
     "data": {
      "text/plain": [
       "1.6449340668482264"
      ]
     },
     "execution_count": 24,
     "metadata": {},
     "output_type": "execute_result"
    }
   ],
   "source": [
    "π*π/6.0    # Compare this to the analytic solution"
   ]
  },
  {
   "cell_type": "code",
   "execution_count": 25,
   "metadata": {},
   "outputs": [
    {
     "data": {
      "text/plain": [
       "BenchmarkTools.Trial: \n",
       "  memory estimate:  0 bytes\n",
       "  allocs estimate:  0\n",
       "  --------------\n",
       "  minimum time:     484.345 ms (0.00% GC)\n",
       "  median time:      486.278 ms (0.00% GC)\n",
       "  mean time:        487.037 ms (0.00% GC)\n",
       "  maximum time:     496.635 ms (0.00% GC)\n",
       "  --------------\n",
       "  samples:          10\n",
       "  evals/sample:     1"
      ]
     },
     "execution_count": 25,
     "metadata": {},
     "output_type": "execute_result"
    }
   ],
   "source": [
    "# Use the BenchmarkTools macro @benchmark to get more unbiased timings\n",
    "\n",
    "@benchmark basel(10^8) samples=10"
   ]
  },
  {
   "cell_type": "markdown",
   "metadata": {},
   "source": [
    "---"
   ]
  },
  {
   "cell_type": "markdown",
   "metadata": {},
   "source": [
    "### Plotting using text characters\n",
    "\n",
    "A simple plot can be created using Unicode Plots for the expression: <br/>$x * exp(-0.03x) * sin(0.03x)$\n"
   ]
  },
  {
   "cell_type": "code",
   "execution_count": 26,
   "metadata": {},
   "outputs": [],
   "source": [
    "using UnicodePlots"
   ]
  },
  {
   "cell_type": "code",
   "execution_count": 27,
   "metadata": {},
   "outputs": [
    {
     "data": {
      "text/plain": [
       "\u001b[1m                     My First Plot\u001b[22m\n",
       "\u001b[90m       ┌────────────────────────────────────────┐\u001b[39m    \n",
       "    \u001b[90m20\u001b[39m\u001b[90m │\u001b[39m\u001b[0m⠀\u001b[0m⠀\u001b[0m⠀\u001b[0m⠀\u001b[0m⠀\u001b[0m⠀\u001b[0m⠀\u001b[0m⠀\u001b[0m⠀\u001b[0m⠀\u001b[0m⠀\u001b[0m⠀\u001b[0m⠀\u001b[0m⠀\u001b[0m⠀\u001b[0m⠀\u001b[0m⠀\u001b[0m⠀\u001b[0m⠀\u001b[0m⠀\u001b[0m⠀\u001b[0m⠀\u001b[0m⠀\u001b[0m⠀\u001b[0m⠀\u001b[0m⠀\u001b[0m⠀\u001b[0m⠀\u001b[0m⠀\u001b[0m⠀\u001b[0m⠀\u001b[0m⠀\u001b[0m⠀\u001b[0m⠀\u001b[0m⠀\u001b[0m⠀\u001b[0m⠀\u001b[0m⠀\u001b[0m⠀\u001b[0m⠀\u001b[90m│\u001b[39m \u001b[32mC01\u001b[39m\n",
       "      \u001b[90m │\u001b[39m\u001b[0m⠀\u001b[0m⠀\u001b[0m⠀\u001b[0m⠀\u001b[0m⠀\u001b[0m⠀\u001b[0m⠀\u001b[0m⠀\u001b[0m⠀\u001b[0m⠀\u001b[0m⠀\u001b[0m⠀\u001b[0m⠀\u001b[0m⠀\u001b[0m⠀\u001b[0m⠀\u001b[0m⠀\u001b[0m⠀\u001b[0m⠀\u001b[0m⠀\u001b[0m⠀\u001b[0m⠀\u001b[0m⠀\u001b[0m⠀\u001b[0m⠀\u001b[0m⠀\u001b[0m⠀\u001b[0m⠀\u001b[0m⠀\u001b[0m⠀\u001b[0m⠀\u001b[0m⠀\u001b[0m⠀\u001b[0m⠀\u001b[0m⠀\u001b[0m⠀\u001b[0m⠀\u001b[0m⠀\u001b[0m⠀\u001b[0m⠀\u001b[90m│\u001b[39m    \n",
       "      \u001b[90m │\u001b[39m\u001b[0m⠀\u001b[0m⠀\u001b[0m⠀\u001b[0m⠀\u001b[0m⠀\u001b[0m⠀\u001b[0m⠀\u001b[0m⠀\u001b[0m⠀\u001b[0m⠀\u001b[0m⠀\u001b[0m⠀\u001b[0m⠀\u001b[0m⠀\u001b[0m⠀\u001b[0m⠀\u001b[0m⠀\u001b[0m⠀\u001b[0m⠀\u001b[0m⠀\u001b[0m⠀\u001b[0m⠀\u001b[0m⠀\u001b[0m⠀\u001b[0m⠀\u001b[0m⠀\u001b[0m⠀\u001b[0m⠀\u001b[0m⠀\u001b[0m⠀\u001b[0m⠀\u001b[0m⠀\u001b[0m⠀\u001b[0m⠀\u001b[0m⠀\u001b[0m⠀\u001b[0m⠀\u001b[0m⠀\u001b[0m⠀\u001b[0m⠀\u001b[90m│\u001b[39m    \n",
       "      \u001b[90m │\u001b[39m\u001b[0m⠀\u001b[0m⠀\u001b[0m⠀\u001b[0m⠀\u001b[0m⠀\u001b[0m⠀\u001b[0m⠀\u001b[0m⠀\u001b[0m⠀\u001b[32m⢠\u001b[39m\u001b[32m⠋\u001b[39m\u001b[32m⡆\u001b[39m\u001b[0m⠀\u001b[0m⠀\u001b[0m⠀\u001b[0m⠀\u001b[0m⠀\u001b[0m⠀\u001b[32m⡎\u001b[39m\u001b[32m⢆\u001b[39m\u001b[0m⠀\u001b[0m⠀\u001b[0m⠀\u001b[0m⠀\u001b[0m⠀\u001b[0m⠀\u001b[0m⠀\u001b[0m⠀\u001b[0m⠀\u001b[0m⠀\u001b[0m⠀\u001b[0m⠀\u001b[0m⠀\u001b[0m⠀\u001b[0m⠀\u001b[0m⠀\u001b[0m⠀\u001b[0m⠀\u001b[0m⠀\u001b[0m⠀\u001b[90m│\u001b[39m    \n",
       "      \u001b[90m │\u001b[39m\u001b[0m⠀\u001b[0m⠀\u001b[0m⠀\u001b[0m⠀\u001b[0m⠀\u001b[0m⠀\u001b[0m⠀\u001b[0m⠀\u001b[0m⠀\u001b[32m⡎\u001b[39m\u001b[0m⠀\u001b[32m⢱\u001b[39m\u001b[0m⠀\u001b[0m⠀\u001b[0m⠀\u001b[0m⠀\u001b[0m⠀\u001b[32m⢸\u001b[39m\u001b[0m⠀\u001b[32m⠸\u001b[39m\u001b[32m⡀\u001b[39m\u001b[0m⠀\u001b[0m⠀\u001b[0m⠀\u001b[0m⠀\u001b[0m⠀\u001b[32m⡔\u001b[39m\u001b[32m⠱\u001b[39m\u001b[32m⡀\u001b[39m\u001b[0m⠀\u001b[0m⠀\u001b[0m⠀\u001b[0m⠀\u001b[0m⠀\u001b[0m⠀\u001b[0m⠀\u001b[0m⠀\u001b[0m⠀\u001b[0m⠀\u001b[0m⠀\u001b[90m│\u001b[39m    \n",
       "      \u001b[90m │\u001b[39m\u001b[0m⠀\u001b[0m⠀\u001b[32m⡤\u001b[39m\u001b[32m⡀\u001b[39m\u001b[0m⠀\u001b[0m⠀\u001b[0m⠀\u001b[0m⠀\u001b[32m⢠\u001b[39m\u001b[32m⠃\u001b[39m\u001b[0m⠀\u001b[32m⠘\u001b[39m\u001b[32m⡄\u001b[39m\u001b[0m⠀\u001b[0m⠀\u001b[0m⠀\u001b[0m⠀\u001b[32m⡎\u001b[39m\u001b[0m⠀\u001b[0m⠀\u001b[32m⡇\u001b[39m\u001b[0m⠀\u001b[0m⠀\u001b[0m⠀\u001b[0m⠀\u001b[32m⢠\u001b[39m\u001b[32m⠃\u001b[39m\u001b[0m⠀\u001b[32m⢣\u001b[39m\u001b[0m⠀\u001b[0m⠀\u001b[0m⠀\u001b[0m⠀\u001b[0m⠀\u001b[32m⡠\u001b[39m\u001b[32m⠊\u001b[39m\u001b[32m⢆\u001b[39m\u001b[0m⠀\u001b[0m⠀\u001b[0m⠀\u001b[90m│\u001b[39m    \n",
       "      \u001b[90m │\u001b[39m\u001b[0m⠀\u001b[32m⡞\u001b[39m\u001b[0m⠀\u001b[32m⢱\u001b[39m\u001b[0m⠀\u001b[0m⠀\u001b[0m⠀\u001b[0m⠀\u001b[32m⢸\u001b[39m\u001b[0m⠀\u001b[0m⠀\u001b[0m⠀\u001b[32m⡇\u001b[39m\u001b[0m⠀\u001b[0m⠀\u001b[0m⠀\u001b[32m⢀\u001b[39m\u001b[32m⠇\u001b[39m\u001b[0m⠀\u001b[0m⠀\u001b[32m⢱\u001b[39m\u001b[0m⠀\u001b[0m⠀\u001b[0m⠀\u001b[0m⠀\u001b[32m⡜\u001b[39m\u001b[0m⠀\u001b[0m⠀\u001b[32m⠸\u001b[39m\u001b[32m⡀\u001b[39m\u001b[0m⠀\u001b[0m⠀\u001b[0m⠀\u001b[32m⢀\u001b[39m\u001b[32m⠇\u001b[39m\u001b[0m⠀\u001b[32m⠘\u001b[39m\u001b[32m⡄\u001b[39m\u001b[0m⠀\u001b[0m⠀\u001b[90m│\u001b[39m    \n",
       "      \u001b[90m │\u001b[39m\u001b[32m⠮\u001b[39m\u001b[0m⠤\u001b[0m⠤\u001b[0m⠤\u001b[32m⡧\u001b[39m\u001b[0m⠤\u001b[0m⠤\u001b[0m⠤\u001b[32m⡧\u001b[39m\u001b[0m⠤\u001b[0m⠤\u001b[0m⠤\u001b[32m⢵\u001b[39m\u001b[0m⠤\u001b[0m⠤\u001b[0m⠤\u001b[32m⢼\u001b[39m\u001b[0m⠤\u001b[0m⠤\u001b[0m⠤\u001b[32m⠼\u001b[39m\u001b[32m⡤\u001b[39m\u001b[0m⠤\u001b[0m⠤\u001b[32m⢤\u001b[39m\u001b[32m⠧\u001b[39m\u001b[0m⠤\u001b[0m⠤\u001b[0m⠤\u001b[32m⢧\u001b[39m\u001b[0m⠤\u001b[0m⠤\u001b[0m⠤\u001b[32m⡼\u001b[39m\u001b[0m⠤\u001b[0m⠤\u001b[0m⠤\u001b[32m⢼\u001b[39m\u001b[32m⡤\u001b[39m\u001b[0m⠤\u001b[90m│\u001b[39m    \n",
       "      \u001b[90m │\u001b[39m\u001b[0m⠀\u001b[0m⠀\u001b[0m⠀\u001b[0m⠀\u001b[32m⢸\u001b[39m\u001b[0m⠀\u001b[0m⠀\u001b[32m⢠\u001b[39m\u001b[32m⠇\u001b[39m\u001b[0m⠀\u001b[0m⠀\u001b[0m⠀\u001b[32m⢸\u001b[39m\u001b[0m⠀\u001b[0m⠀\u001b[0m⠀\u001b[32m⡎\u001b[39m\u001b[0m⠀\u001b[0m⠀\u001b[0m⠀\u001b[0m⠀\u001b[32m⡇\u001b[39m\u001b[0m⠀\u001b[0m⠀\u001b[32m⢸\u001b[39m\u001b[0m⠀\u001b[0m⠀\u001b[0m⠀\u001b[0m⠀\u001b[32m⢸\u001b[39m\u001b[32m⡀\u001b[39m\u001b[0m⠀\u001b[32m⢠\u001b[39m\u001b[32m⠃\u001b[39m\u001b[0m⠀\u001b[0m⠀\u001b[0m⠀\u001b[0m⠀\u001b[32m⢇\u001b[39m\u001b[0m⠀\u001b[90m│\u001b[39m    \n",
       "      \u001b[90m │\u001b[39m\u001b[0m⠀\u001b[0m⠀\u001b[0m⠀\u001b[0m⠀\u001b[32m⠈\u001b[39m\u001b[32m⡆\u001b[39m\u001b[0m⠀\u001b[32m⢸\u001b[39m\u001b[0m⠀\u001b[0m⠀\u001b[0m⠀\u001b[0m⠀\u001b[0m⠀\u001b[32m⡇\u001b[39m\u001b[0m⠀\u001b[32m⢀\u001b[39m\u001b[32m⡇\u001b[39m\u001b[0m⠀\u001b[0m⠀\u001b[0m⠀\u001b[0m⠀\u001b[32m⢱\u001b[39m\u001b[0m⠀\u001b[0m⠀\u001b[32m⡇\u001b[39m\u001b[0m⠀\u001b[0m⠀\u001b[0m⠀\u001b[0m⠀\u001b[0m⠀\u001b[32m⢇\u001b[39m\u001b[32m⢀\u001b[39m\u001b[32m⡎\u001b[39m\u001b[0m⠀\u001b[0m⠀\u001b[0m⠀\u001b[0m⠀\u001b[0m⠀\u001b[0m⠀\u001b[32m⠓\u001b[39m\u001b[90m│\u001b[39m    \n",
       "      \u001b[90m │\u001b[39m\u001b[0m⠀\u001b[0m⠀\u001b[0m⠀\u001b[0m⠀\u001b[0m⠀\u001b[32m⢣\u001b[39m\u001b[32m⢀\u001b[39m\u001b[32m⠇\u001b[39m\u001b[0m⠀\u001b[0m⠀\u001b[0m⠀\u001b[0m⠀\u001b[0m⠀\u001b[32m⢣\u001b[39m\u001b[0m⠀\u001b[32m⢸\u001b[39m\u001b[0m⠀\u001b[0m⠀\u001b[0m⠀\u001b[0m⠀\u001b[0m⠀\u001b[32m⠈\u001b[39m\u001b[32m⡆\u001b[39m\u001b[32m⢰\u001b[39m\u001b[32m⠃\u001b[39m\u001b[0m⠀\u001b[0m⠀\u001b[0m⠀\u001b[0m⠀\u001b[0m⠀\u001b[32m⠈\u001b[39m\u001b[32m⠊\u001b[39m\u001b[0m⠀\u001b[0m⠀\u001b[0m⠀\u001b[0m⠀\u001b[0m⠀\u001b[0m⠀\u001b[0m⠀\u001b[0m⠀\u001b[90m│\u001b[39m    \n",
       "      \u001b[90m │\u001b[39m\u001b[0m⠀\u001b[0m⠀\u001b[0m⠀\u001b[0m⠀\u001b[0m⠀\u001b[0m⠀\u001b[32m⠉\u001b[39m\u001b[0m⠀\u001b[0m⠀\u001b[0m⠀\u001b[0m⠀\u001b[0m⠀\u001b[0m⠀\u001b[32m⠘\u001b[39m\u001b[32m⡄\u001b[39m\u001b[32m⡇\u001b[39m\u001b[0m⠀\u001b[0m⠀\u001b[0m⠀\u001b[0m⠀\u001b[0m⠀\u001b[0m⠀\u001b[32m⠘\u001b[39m\u001b[32m⠃\u001b[39m\u001b[0m⠀\u001b[0m⠀\u001b[0m⠀\u001b[0m⠀\u001b[0m⠀\u001b[0m⠀\u001b[0m⠀\u001b[0m⠀\u001b[0m⠀\u001b[0m⠀\u001b[0m⠀\u001b[0m⠀\u001b[0m⠀\u001b[0m⠀\u001b[0m⠀\u001b[0m⠀\u001b[90m│\u001b[39m    \n",
       "      \u001b[90m │\u001b[39m\u001b[0m⠀\u001b[0m⠀\u001b[0m⠀\u001b[0m⠀\u001b[0m⠀\u001b[0m⠀\u001b[0m⠀\u001b[0m⠀\u001b[0m⠀\u001b[0m⠀\u001b[0m⠀\u001b[0m⠀\u001b[0m⠀\u001b[0m⠀\u001b[32m⠈\u001b[39m\u001b[0m⠀\u001b[0m⠀\u001b[0m⠀\u001b[0m⠀\u001b[0m⠀\u001b[0m⠀\u001b[0m⠀\u001b[0m⠀\u001b[0m⠀\u001b[0m⠀\u001b[0m⠀\u001b[0m⠀\u001b[0m⠀\u001b[0m⠀\u001b[0m⠀\u001b[0m⠀\u001b[0m⠀\u001b[0m⠀\u001b[0m⠀\u001b[0m⠀\u001b[0m⠀\u001b[0m⠀\u001b[0m⠀\u001b[0m⠀\u001b[0m⠀\u001b[90m│\u001b[39m    \n",
       "      \u001b[90m │\u001b[39m\u001b[0m⠀\u001b[0m⠀\u001b[0m⠀\u001b[0m⠀\u001b[0m⠀\u001b[0m⠀\u001b[0m⠀\u001b[0m⠀\u001b[0m⠀\u001b[0m⠀\u001b[0m⠀\u001b[0m⠀\u001b[0m⠀\u001b[0m⠀\u001b[0m⠀\u001b[0m⠀\u001b[0m⠀\u001b[0m⠀\u001b[0m⠀\u001b[0m⠀\u001b[0m⠀\u001b[0m⠀\u001b[0m⠀\u001b[0m⠀\u001b[0m⠀\u001b[0m⠀\u001b[0m⠀\u001b[0m⠀\u001b[0m⠀\u001b[0m⠀\u001b[0m⠀\u001b[0m⠀\u001b[0m⠀\u001b[0m⠀\u001b[0m⠀\u001b[0m⠀\u001b[0m⠀\u001b[0m⠀\u001b[0m⠀\u001b[0m⠀\u001b[90m│\u001b[39m    \n",
       "   \u001b[90m-20\u001b[39m\u001b[90m │\u001b[39m\u001b[0m⠀\u001b[0m⠀\u001b[0m⠀\u001b[0m⠀\u001b[0m⠀\u001b[0m⠀\u001b[0m⠀\u001b[0m⠀\u001b[0m⠀\u001b[0m⠀\u001b[0m⠀\u001b[0m⠀\u001b[0m⠀\u001b[0m⠀\u001b[0m⠀\u001b[0m⠀\u001b[0m⠀\u001b[0m⠀\u001b[0m⠀\u001b[0m⠀\u001b[0m⠀\u001b[0m⠀\u001b[0m⠀\u001b[0m⠀\u001b[0m⠀\u001b[0m⠀\u001b[0m⠀\u001b[0m⠀\u001b[0m⠀\u001b[0m⠀\u001b[0m⠀\u001b[0m⠀\u001b[0m⠀\u001b[0m⠀\u001b[0m⠀\u001b[0m⠀\u001b[0m⠀\u001b[0m⠀\u001b[0m⠀\u001b[0m⠀\u001b[90m│\u001b[39m    \n",
       "\u001b[90m       └────────────────────────────────────────┘\u001b[39m    \n",
       "\u001b[90m       0\u001b[39m\u001b[90m                   \u001b[39m\u001b[90m                   100\u001b[39m"
      ]
     },
     "execution_count": 27,
     "metadata": {},
     "output_type": "execute_result"
    }
   ],
   "source": [
    "# Generate an array of the numbers from 1 to 100\n",
    "# The ordinate value is create using a list comprehensive\n",
    "\n",
    "x = collect(1:100);\n",
    "y = [x[i]*sin(0.3*x[i])*exp(-0.03*x[i]) for i = 1:length(x)];\n",
    "\n",
    "myPlot = lineplot(x, y, title = \"My First Plot\", name = \"C01\")"
   ]
  },
  {
   "cell_type": "code",
   "execution_count": 28,
   "metadata": {},
   "outputs": [
    {
     "data": {
      "text/plain": [
       "\u001b[1m                   My Second Plot\u001b[22m\n",
       "\u001b[90m      ┌────────────────────────────────────────┐\u001b[39m    \n",
       "    \u001b[90m2\u001b[39m\u001b[90m │\u001b[39m\u001b[0m⠀\u001b[0m⠀\u001b[0m⠀\u001b[0m⠀\u001b[0m⠀\u001b[0m⠀\u001b[0m⠀\u001b[0m⠀\u001b[0m⠀\u001b[0m⠀\u001b[0m⠀\u001b[0m⠀\u001b[0m⠀\u001b[0m⠀\u001b[0m⠀\u001b[0m⠀\u001b[0m⠀\u001b[0m⠀\u001b[0m⠀\u001b[0m⠀\u001b[0m⠀\u001b[0m⠀\u001b[0m⠀\u001b[0m⠀\u001b[0m⠀\u001b[0m⠀\u001b[0m⠀\u001b[0m⠀\u001b[0m⠀\u001b[0m⠀\u001b[0m⠀\u001b[0m⠀\u001b[0m⠀\u001b[0m⠀\u001b[0m⠀\u001b[0m⠀\u001b[0m⠀\u001b[0m⠀\u001b[0m⠀\u001b[0m⠀\u001b[90m│\u001b[39m \u001b[32mc01\u001b[39m\n",
       "     \u001b[90m │\u001b[39m\u001b[0m⠀\u001b[0m⠀\u001b[0m⠀\u001b[0m⠀\u001b[0m⠀\u001b[0m⠀\u001b[0m⠀\u001b[0m⠀\u001b[0m⠀\u001b[0m⠀\u001b[0m⠀\u001b[0m⠀\u001b[0m⠀\u001b[0m⠀\u001b[0m⠀\u001b[0m⠀\u001b[0m⠀\u001b[0m⠀\u001b[0m⠀\u001b[0m⠀\u001b[0m⠀\u001b[0m⠀\u001b[0m⠀\u001b[0m⠀\u001b[0m⠀\u001b[0m⠀\u001b[0m⠀\u001b[0m⠀\u001b[0m⠀\u001b[0m⠀\u001b[0m⠀\u001b[0m⠀\u001b[0m⠀\u001b[0m⠀\u001b[0m⠀\u001b[0m⠀\u001b[0m⠀\u001b[0m⠀\u001b[0m⠀\u001b[0m⠀\u001b[90m│\u001b[39m    \n",
       "     \u001b[90m │\u001b[39m\u001b[0m⠀\u001b[0m⠀\u001b[0m⠀\u001b[0m⠀\u001b[0m⠀\u001b[0m⠀\u001b[0m⠀\u001b[0m⠀\u001b[0m⠀\u001b[0m⠀\u001b[0m⠀\u001b[0m⠀\u001b[0m⠀\u001b[0m⠀\u001b[0m⠀\u001b[0m⠀\u001b[0m⠀\u001b[0m⠀\u001b[0m⠀\u001b[0m⠀\u001b[0m⠀\u001b[0m⠀\u001b[0m⠀\u001b[0m⠀\u001b[0m⠀\u001b[0m⠀\u001b[0m⠀\u001b[0m⠀\u001b[0m⠀\u001b[0m⠀\u001b[0m⠀\u001b[0m⠀\u001b[0m⠀\u001b[0m⠀\u001b[0m⠀\u001b[0m⠀\u001b[0m⠀\u001b[0m⠀\u001b[0m⠀\u001b[0m⠀\u001b[90m│\u001b[39m    \n",
       "     \u001b[90m │\u001b[39m\u001b[0m⠀\u001b[0m⠀\u001b[0m⠀\u001b[0m⠀\u001b[0m⠀\u001b[0m⠀\u001b[0m⠀\u001b[0m⠀\u001b[0m⠀\u001b[32m⢠\u001b[39m\u001b[32m⠋\u001b[39m\u001b[32m⡆\u001b[39m\u001b[0m⠀\u001b[0m⠀\u001b[0m⠀\u001b[0m⠀\u001b[0m⠀\u001b[0m⠀\u001b[32m⡎\u001b[39m\u001b[32m⢆\u001b[39m\u001b[0m⠀\u001b[0m⠀\u001b[0m⠀\u001b[0m⠀\u001b[0m⠀\u001b[0m⠀\u001b[0m⠀\u001b[0m⠀\u001b[0m⠀\u001b[0m⠀\u001b[0m⠀\u001b[0m⠀\u001b[0m⠀\u001b[0m⠀\u001b[0m⠀\u001b[0m⠀\u001b[0m⠀\u001b[0m⠀\u001b[0m⠀\u001b[0m⠀\u001b[90m│\u001b[39m    \n",
       "     \u001b[90m │\u001b[39m\u001b[0m⠀\u001b[0m⠀\u001b[0m⠀\u001b[0m⠀\u001b[0m⠀\u001b[0m⠀\u001b[0m⠀\u001b[0m⠀\u001b[0m⠀\u001b[32m⡎\u001b[39m\u001b[0m⠀\u001b[32m⢱\u001b[39m\u001b[0m⠀\u001b[0m⠀\u001b[0m⠀\u001b[0m⠀\u001b[0m⠀\u001b[32m⢸\u001b[39m\u001b[0m⠀\u001b[32m⠸\u001b[39m\u001b[32m⡀\u001b[39m\u001b[0m⠀\u001b[0m⠀\u001b[0m⠀\u001b[0m⠀\u001b[0m⠀\u001b[32m⡔\u001b[39m\u001b[32m⠱\u001b[39m\u001b[32m⡀\u001b[39m\u001b[0m⠀\u001b[0m⠀\u001b[0m⠀\u001b[0m⠀\u001b[0m⠀\u001b[0m⠀\u001b[0m⠀\u001b[0m⠀\u001b[0m⠀\u001b[0m⠀\u001b[0m⠀\u001b[90m│\u001b[39m    \n",
       "     \u001b[90m │\u001b[39m\u001b[0m⠀\u001b[0m⠀\u001b[32m⡤\u001b[39m\u001b[32m⡀\u001b[39m\u001b[0m⠀\u001b[0m⠀\u001b[0m⠀\u001b[0m⠀\u001b[32m⢠\u001b[39m\u001b[32m⠃\u001b[39m\u001b[0m⠀\u001b[32m⠘\u001b[39m\u001b[32m⡄\u001b[39m\u001b[0m⠀\u001b[0m⠀\u001b[0m⠀\u001b[0m⠀\u001b[32m⡎\u001b[39m\u001b[0m⠀\u001b[0m⠀\u001b[32m⡇\u001b[39m\u001b[0m⠀\u001b[0m⠀\u001b[0m⠀\u001b[0m⠀\u001b[32m⢠\u001b[39m\u001b[32m⠃\u001b[39m\u001b[0m⠀\u001b[32m⢣\u001b[39m\u001b[0m⠀\u001b[0m⠀\u001b[0m⠀\u001b[0m⠀\u001b[0m⠀\u001b[32m⡠\u001b[39m\u001b[32m⠊\u001b[39m\u001b[32m⢆\u001b[39m\u001b[0m⠀\u001b[0m⠀\u001b[0m⠀\u001b[90m│\u001b[39m    \n",
       "     \u001b[90m │\u001b[39m\u001b[0m⠀\u001b[32m⡞\u001b[39m\u001b[0m⠀\u001b[32m⢱\u001b[39m\u001b[0m⠀\u001b[0m⠀\u001b[0m⠀\u001b[0m⠀\u001b[32m⢸\u001b[39m\u001b[0m⠀\u001b[0m⠀\u001b[0m⠀\u001b[32m⡇\u001b[39m\u001b[0m⠀\u001b[0m⠀\u001b[0m⠀\u001b[32m⢀\u001b[39m\u001b[32m⠇\u001b[39m\u001b[0m⠀\u001b[0m⠀\u001b[32m⢱\u001b[39m\u001b[0m⠀\u001b[0m⠀\u001b[0m⠀\u001b[0m⠀\u001b[32m⡜\u001b[39m\u001b[0m⠀\u001b[0m⠀\u001b[32m⠸\u001b[39m\u001b[32m⡀\u001b[39m\u001b[0m⠀\u001b[0m⠀\u001b[0m⠀\u001b[32m⢀\u001b[39m\u001b[32m⠇\u001b[39m\u001b[0m⠀\u001b[32m⠘\u001b[39m\u001b[32m⡄\u001b[39m\u001b[0m⠀\u001b[0m⠀\u001b[90m│\u001b[39m    \n",
       "     \u001b[90m │\u001b[39m\u001b[32m⠮\u001b[39m\u001b[0m⠤\u001b[0m⠤\u001b[0m⠤\u001b[32m⡧\u001b[39m\u001b[0m⠤\u001b[0m⠤\u001b[0m⠤\u001b[32m⡧\u001b[39m\u001b[0m⠤\u001b[0m⠤\u001b[0m⠤\u001b[32m⢵\u001b[39m\u001b[0m⠤\u001b[0m⠤\u001b[0m⠤\u001b[32m⢼\u001b[39m\u001b[0m⠤\u001b[0m⠤\u001b[0m⠤\u001b[32m⠼\u001b[39m\u001b[32m⡤\u001b[39m\u001b[0m⠤\u001b[0m⠤\u001b[32m⢤\u001b[39m\u001b[32m⠧\u001b[39m\u001b[0m⠤\u001b[0m⠤\u001b[0m⠤\u001b[32m⢧\u001b[39m\u001b[0m⠤\u001b[0m⠤\u001b[0m⠤\u001b[32m⡼\u001b[39m\u001b[0m⠤\u001b[0m⠤\u001b[0m⠤\u001b[32m⢼\u001b[39m\u001b[32m⡤\u001b[39m\u001b[0m⠤\u001b[90m│\u001b[39m    \n",
       "     \u001b[90m │\u001b[39m\u001b[0m⠀\u001b[0m⠀\u001b[0m⠀\u001b[0m⠀\u001b[32m⢸\u001b[39m\u001b[0m⠀\u001b[0m⠀\u001b[32m⢠\u001b[39m\u001b[32m⠇\u001b[39m\u001b[0m⠀\u001b[0m⠀\u001b[0m⠀\u001b[32m⢸\u001b[39m\u001b[0m⠀\u001b[0m⠀\u001b[0m⠀\u001b[32m⡎\u001b[39m\u001b[0m⠀\u001b[0m⠀\u001b[0m⠀\u001b[0m⠀\u001b[32m⡇\u001b[39m\u001b[0m⠀\u001b[0m⠀\u001b[32m⢸\u001b[39m\u001b[0m⠀\u001b[0m⠀\u001b[0m⠀\u001b[0m⠀\u001b[32m⢸\u001b[39m\u001b[32m⡀\u001b[39m\u001b[0m⠀\u001b[32m⢠\u001b[39m\u001b[32m⠃\u001b[39m\u001b[0m⠀\u001b[0m⠀\u001b[0m⠀\u001b[0m⠀\u001b[32m⢇\u001b[39m\u001b[0m⠀\u001b[90m│\u001b[39m    \n",
       "     \u001b[90m │\u001b[39m\u001b[0m⠀\u001b[0m⠀\u001b[0m⠀\u001b[0m⠀\u001b[32m⠈\u001b[39m\u001b[32m⡆\u001b[39m\u001b[0m⠀\u001b[32m⢸\u001b[39m\u001b[0m⠀\u001b[0m⠀\u001b[0m⠀\u001b[0m⠀\u001b[0m⠀\u001b[32m⡇\u001b[39m\u001b[0m⠀\u001b[32m⢀\u001b[39m\u001b[32m⡇\u001b[39m\u001b[0m⠀\u001b[0m⠀\u001b[0m⠀\u001b[0m⠀\u001b[32m⢱\u001b[39m\u001b[0m⠀\u001b[0m⠀\u001b[32m⡇\u001b[39m\u001b[0m⠀\u001b[0m⠀\u001b[0m⠀\u001b[0m⠀\u001b[0m⠀\u001b[32m⢇\u001b[39m\u001b[32m⢀\u001b[39m\u001b[32m⡎\u001b[39m\u001b[0m⠀\u001b[0m⠀\u001b[0m⠀\u001b[0m⠀\u001b[0m⠀\u001b[0m⠀\u001b[32m⠓\u001b[39m\u001b[90m│\u001b[39m    \n",
       "     \u001b[90m │\u001b[39m\u001b[0m⠀\u001b[0m⠀\u001b[0m⠀\u001b[0m⠀\u001b[0m⠀\u001b[32m⢣\u001b[39m\u001b[32m⢀\u001b[39m\u001b[32m⠇\u001b[39m\u001b[0m⠀\u001b[0m⠀\u001b[0m⠀\u001b[0m⠀\u001b[0m⠀\u001b[32m⢣\u001b[39m\u001b[0m⠀\u001b[32m⢸\u001b[39m\u001b[0m⠀\u001b[0m⠀\u001b[0m⠀\u001b[0m⠀\u001b[0m⠀\u001b[32m⠈\u001b[39m\u001b[32m⡆\u001b[39m\u001b[32m⢰\u001b[39m\u001b[32m⠃\u001b[39m\u001b[0m⠀\u001b[0m⠀\u001b[0m⠀\u001b[0m⠀\u001b[0m⠀\u001b[32m⠈\u001b[39m\u001b[32m⠊\u001b[39m\u001b[0m⠀\u001b[0m⠀\u001b[0m⠀\u001b[0m⠀\u001b[0m⠀\u001b[0m⠀\u001b[0m⠀\u001b[0m⠀\u001b[90m│\u001b[39m    \n",
       "     \u001b[90m │\u001b[39m\u001b[0m⠀\u001b[0m⠀\u001b[0m⠀\u001b[0m⠀\u001b[0m⠀\u001b[0m⠀\u001b[32m⠉\u001b[39m\u001b[0m⠀\u001b[0m⠀\u001b[0m⠀\u001b[0m⠀\u001b[0m⠀\u001b[0m⠀\u001b[32m⠘\u001b[39m\u001b[32m⡄\u001b[39m\u001b[32m⡇\u001b[39m\u001b[0m⠀\u001b[0m⠀\u001b[0m⠀\u001b[0m⠀\u001b[0m⠀\u001b[0m⠀\u001b[32m⠘\u001b[39m\u001b[32m⠃\u001b[39m\u001b[0m⠀\u001b[0m⠀\u001b[0m⠀\u001b[0m⠀\u001b[0m⠀\u001b[0m⠀\u001b[0m⠀\u001b[0m⠀\u001b[0m⠀\u001b[0m⠀\u001b[0m⠀\u001b[0m⠀\u001b[0m⠀\u001b[0m⠀\u001b[0m⠀\u001b[0m⠀\u001b[90m│\u001b[39m    \n",
       "     \u001b[90m │\u001b[39m\u001b[0m⠀\u001b[0m⠀\u001b[0m⠀\u001b[0m⠀\u001b[0m⠀\u001b[0m⠀\u001b[0m⠀\u001b[0m⠀\u001b[0m⠀\u001b[0m⠀\u001b[0m⠀\u001b[0m⠀\u001b[0m⠀\u001b[0m⠀\u001b[32m⠈\u001b[39m\u001b[0m⠀\u001b[0m⠀\u001b[0m⠀\u001b[0m⠀\u001b[0m⠀\u001b[0m⠀\u001b[0m⠀\u001b[0m⠀\u001b[0m⠀\u001b[0m⠀\u001b[0m⠀\u001b[0m⠀\u001b[0m⠀\u001b[0m⠀\u001b[0m⠀\u001b[0m⠀\u001b[0m⠀\u001b[0m⠀\u001b[0m⠀\u001b[0m⠀\u001b[0m⠀\u001b[0m⠀\u001b[0m⠀\u001b[0m⠀\u001b[0m⠀\u001b[90m│\u001b[39m    \n",
       "     \u001b[90m │\u001b[39m\u001b[0m⠀\u001b[0m⠀\u001b[0m⠀\u001b[0m⠀\u001b[0m⠀\u001b[0m⠀\u001b[0m⠀\u001b[0m⠀\u001b[0m⠀\u001b[0m⠀\u001b[0m⠀\u001b[0m⠀\u001b[0m⠀\u001b[0m⠀\u001b[0m⠀\u001b[0m⠀\u001b[0m⠀\u001b[0m⠀\u001b[0m⠀\u001b[0m⠀\u001b[0m⠀\u001b[0m⠀\u001b[0m⠀\u001b[0m⠀\u001b[0m⠀\u001b[0m⠀\u001b[0m⠀\u001b[0m⠀\u001b[0m⠀\u001b[0m⠀\u001b[0m⠀\u001b[0m⠀\u001b[0m⠀\u001b[0m⠀\u001b[0m⠀\u001b[0m⠀\u001b[0m⠀\u001b[0m⠀\u001b[0m⠀\u001b[0m⠀\u001b[90m│\u001b[39m    \n",
       "   \u001b[90m-2\u001b[39m\u001b[90m │\u001b[39m\u001b[0m⠀\u001b[0m⠀\u001b[0m⠀\u001b[0m⠀\u001b[0m⠀\u001b[0m⠀\u001b[0m⠀\u001b[0m⠀\u001b[0m⠀\u001b[0m⠀\u001b[0m⠀\u001b[0m⠀\u001b[0m⠀\u001b[0m⠀\u001b[0m⠀\u001b[0m⠀\u001b[0m⠀\u001b[0m⠀\u001b[0m⠀\u001b[0m⠀\u001b[0m⠀\u001b[0m⠀\u001b[0m⠀\u001b[0m⠀\u001b[0m⠀\u001b[0m⠀\u001b[0m⠀\u001b[0m⠀\u001b[0m⠀\u001b[0m⠀\u001b[0m⠀\u001b[0m⠀\u001b[0m⠀\u001b[0m⠀\u001b[0m⠀\u001b[0m⠀\u001b[0m⠀\u001b[0m⠀\u001b[0m⠀\u001b[0m⠀\u001b[90m│\u001b[39m    \n",
       "\u001b[90m      └────────────────────────────────────────┘\u001b[39m    \n",
       "\u001b[90m      0\u001b[39m\u001b[90m                   \u001b[39m\u001b[90m                    10\u001b[39m"
      ]
     },
     "execution_count": 28,
     "metadata": {},
     "output_type": "execute_result"
    }
   ],
   "source": [
    "# Alternatively this can be done using a map() construction\n",
    "\n",
    "t = collect(0.0:0.1:10.0);\n",
    "y =  map(x -> x*sin(3.0*x)*exp(-0.3*x), t);\n",
    "myPlot = lineplot(t, y, title = \"My Second Plot\", name = \"c01\")"
   ]
  },
  {
   "cell_type": "markdown",
   "metadata": {},
   "source": [
    "---"
   ]
  },
  {
   "cell_type": "markdown",
   "metadata": {},
   "source": [
    "### Plotting an trajectories in an *Asian* option using PyPlot"
   ]
  },
  {
   "cell_type": "code",
   "execution_count": 29,
   "metadata": {},
   "outputs": [
    {
     "data": {
      "text/plain": [
       "PyPlot"
      ]
     },
     "execution_count": 29,
     "metadata": {},
     "output_type": "execute_result"
    }
   ],
   "source": [
    "using PyPlot\n",
    "plt = PyPlot   # Will get function name clashes with UnicodePlots."
   ]
  },
  {
   "cell_type": "code",
   "execution_count": 30,
   "metadata": {},
   "outputs": [],
   "source": [
    "S0  = 100;      # Spot price\n",
    "K   = 102;      # Strike price\n",
    "r   = 0.05;     # Risk free rate\n",
    "q   = 0.0;      # Dividend yield\n",
    "v   = 0.2;      # Volatility\n",
    "tma = 0.25;     # Time to maturity\n",
    "T   = 90;       # Number of time steps"
   ]
  },
  {
   "cell_type": "code",
   "execution_count": 31,
   "metadata": {},
   "outputs": [],
   "source": [
    "dt  = tma/T;\n",
    "N = T + 1;\n",
    "x = collect(0:T);"
   ]
  },
  {
   "cell_type": "code",
   "execution_count": 32,
   "metadata": {},
   "outputs": [
    {
     "data": {
      "image/png": "[encoded data removed]",
      "text/plain": [
       "Figure(PyObject <Figure size 640x480 with 1 Axes>)"
      ]
     },
     "metadata": {},
     "output_type": "display_data"
    }
   ],
   "source": [
    "# Qualify the function calls since UnicodePlot has exports same functions into Main. \n",
    "\n",
    "plt.title(\"Asian Option trajectories\");\n",
    "plt.xlabel(\"Time\");\n",
    "plt.ylabel(\"Stock price\");\n",
    "\n",
    "for k = 1:5\n",
    "  S = zeros(Float64,N)\n",
    "  S[1] = S0;\n",
    "  dW = randn(N)*sqrt(dt);\n",
    "  [ S[t] = S[t-1] * (1 + (r - q - 0.5*v*v)*dt + v*dW[t] + 0.5*v*v*dW[t]*dW[t]) for t=2:N ]\n",
    "  plt.plot(x,S)\n",
    "end\n",
    "\n",
    "# Notice that the reference to the PyPlot object is in scope inside this loop\n",
    "# The same is true when passing an array into a loop\n",
    "# Confusing YES?\n"
   ]
  },
  {
   "cell_type": "code",
   "execution_count": null,
   "metadata": {},
   "outputs": [],
   "source": []
  }
 ],
 "metadata": {
  "@webio": {
   "lastCommId": null,
   "lastKernelId": null
  },
  "kernelspec": {
   "display_name": "Julia 1.8.3",
   "language": "julia",
   "name": "julia-1.8"
  },
  "language_info": {
   "file_extension": ".jl",
   "mimetype": "application/julia",
   "name": "julia",
   "version": "1.5.3"
  }
 },
 "nbformat": 4,
 "nbformat_minor": 2
}
